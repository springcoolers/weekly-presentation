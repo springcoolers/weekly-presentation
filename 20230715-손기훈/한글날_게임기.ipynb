{
  "nbformat": 4,
  "nbformat_minor": 0,
  "metadata": {
    "colab": {
      "provenance": []
    },
    "kernelspec": {
      "name": "python3",
      "display_name": "Python 3"
    },
    "language_info": {
      "name": "python"
    }
  },
  "cells": [
    {
      "cell_type": "code",
      "execution_count": null,
      "metadata": {
        "id": "NF5S3R6mn_B7"
      },
      "outputs": [],
      "source": []
    },
    {
      "cell_type": "markdown",
      "source": [
        "# 한글날 게임\n",
        "\n",
        "## 한글날 게임이란?\n",
        "\n",
        "한글날을 맞아 외래어, 외국어를 사용하지 않고 순우리말 혹은 한자어만을 사용하여 대화를 진행하고 만약 외래어나 외국어를 말한 경우 벌칙을 받는 게임이다.\n",
        "\n",
        "## 규칙\n",
        "\n",
        "외래어 정의 - 소거법으로\n",
        "1. 한국어에 들어온 외래어 중 이미 들어온지 오래되어 우리말과 구분이 쉽지 않은 경우(귀화어, 예 : 붓)에는 제외한다.\n",
        "2. 외래어인지 아닌지 애매한 단어들은(예 : 구두) 경우 역시 제외한다.\n",
        "3. 인명(예 : 톰 크루즈) 의 경우 제외한다.\n",
        "4. 북한의 문화어 역시 외래어에서 제외한다.\n",
        "5. (1,2,3,4) 항목을 제외한 외래어 등등은 모두 포함된다.\n",
        "\n",
        "벌칙\n",
        "- 참가자의 합의에 따라 벌칙을 정하고 수행한다.\n",
        "\n",
        "\n",
        "## 데모 워크플로우\n",
        "\n",
        "1. 음성 데이터를 올린다.\n",
        "2. 외래어 사전을 구축한다.\n",
        "3. 음성 데이터를 whisper 모델을 통해 전사한다.\n",
        "4. whisper를 통해 전사한 텍스트에 외래어 사전이 포함되어 있으면 카운트한다.\n",
        "\n",
        "\n",
        "## 추가 개발 내역에 포함될 사항\n",
        "\n",
        "1. 화자 분리\n",
        "2. 마이크를 사용하여 실시간으로 체크할 수 있도록 할 것\n",
        "3. whisperapi를 한국어에 더 특화 시켜 파인튜닝할 수 있도록 할 것\n",
        "4. gradio 개발\n",
        "\n",
        "\n",
        "\n"
      ],
      "metadata": {
        "id": "Mn6cfpZaWass"
      }
    },
    {
      "cell_type": "code",
      "source": [
        "!pip install openai transformers"
      ],
      "metadata": {
        "id": "3xgrglRjaegR"
      },
      "execution_count": null,
      "outputs": []
    },
    {
      "cell_type": "code",
      "source": [
        "!curl -s https://raw.githubusercontent.com/teddylee777/machine-learning/master/99-Misc/01-Colab/mecab-colab.sh | bash"
      ],
      "metadata": {
        "id": "QGlAzrdBaeh0"
      },
      "execution_count": null,
      "outputs": []
    },
    {
      "cell_type": "code",
      "source": [
        "#Variables\n",
        "with open(\"/content/drive/MyDrive/Colab Notebooks/NLP 잔디심기/한글날 게임기 - 외래어 탐지기/config.txt\", \"r\") as f:\n",
        "  API_KEY = f.read()\n",
        "\n",
        "with open(\"/content/drive/MyDrive/Colab Notebooks/NLP 잔디심기/한글날 게임기 - 외래어 탐지기/foreign_words.txt\", \"r\") as f:\n",
        "  FOREIGN_WORDS = f.readlines()\n",
        "  FOREIGN_WORDS = list(map(lambda x: x.strip(), FOREIGN_WORDS))\n",
        "\n",
        "print(FOREIGN_WORDS)"
      ],
      "metadata": {
        "colab": {
          "base_uri": "https://localhost:8080/"
        },
        "id": "Qi-ee11Ek0xh",
        "outputId": "a85fda13-d8f1-41e9-fc2d-6438ef7fdb96"
      },
      "execution_count": null,
      "outputs": [
        {
          "output_type": "stream",
          "name": "stdout",
          "text": [
            "['가돌리늄', '가드', '가드레일', '가솔린', '가스', '가십', '가이드', '개그', '개그맨', '개그우먼', '걸프렌드', '게릴라', '게임', '고릴라', '골키퍼', '구글', '그래프', '그레이마켓', '그룹', '그리스', '기네스북', '기니', '기어', '나이지리아', '나이트클럽', '나이프', '나프탈렌', '난디', '내비게이션', '네오디뮴', '네온', '네트워크', '넥타이', '노메달', '노크', '뉴스', '다이아몬드', '다이오드', '달러', '댄스', '더빙', '데이터', '데이트', '도넛', '드라마', '드라이버', '드론', '디자인', '디지털', '라디오', '라이벌', '라이타', '라이트', '라크로스', '라트비아', '랍스터', '래퍼', '랜턴', '램프', '러시아', '레게', '레몬', '레아', '레이다', '레이더', '레이온', '롱패딩', '립싱크', '마그네사이트', '마스크', '마우스', '마이크로프로세서', '만다린', '머스터드', '멀티골', '멜론', '멤버', '모니터', '모바일폰', '미니스커트', '미팅', '바이러스', '박테리아', '벤치', '보이프렌드', '비디오테이프', '비치발리볼', '사이다', '셰이크', '솔', '수바', '쉐이크', '슈퍼컴퓨터', '스마트폰', '스키니진', '스타킹', '스테이크', '스펙트럼', '스포츠', '시가', '시스템', '심포니', '아날로그', '아라비아', '아르메니아', '아메바', '아부자', '아스팔트', '아이돌', '아이스커피', '아이스크림', '알코올램프', '액세서리', '엔진', '엘리베이터', '온리', '올림픽', '워크숍', '원더골', '월드컵', '위키', '위키뉴스', '위키문헌', '위키미디어', '위키복스', '위키책', '위키피디아', '윅셔너리', '유니폼', '유럽', '유저박스', '이그나이트론', '인터넷 카페', '잉크', '자메이카', '재즈', '저마늄', '조지아', '쥐', '차트', '초콜릿', '카메라', '카바이드', '캔버라', '캠페인', '커피', '컬러', '컬러텔레비전', '컴퓨터', '케이크', '콘브레드', '콘플레이크', '퀴어', '크레인', '키', '키보드', '킬로볼트', '텔레비전', '투터치', '트랜스젠더', '팀', '파키스탄', '페인트', '포탈', '폰카', '피처폰', '해트트릭', '햄버거스테이크', '햄버그스테이크', '헬리콥터', '후드', '휠체어', '컴퓨터', '인터넷', '텔레비전', '라디오', '피아노', '레스토랑', '택시', '카메라', '휴대폰', '레몬', '커피', '토스트', '스포츠', '트레이닝', '파스타', '맥주', '와인', '피자', '헤어스타일', '메뉴', '티셔츠', '키보드', '마우스', '모니터', '프린터', '스캐너', '빈티지', '패션', '페스티벌', '콘서트', '플라스틱', '액자', '아파트', '버스', '트럭', '미니밴', '헬리콥터', '비행기', '기차', '페인트', '브러시', '팔레트', '스케치', '마커', '디자인', '테크놀로지', '트렌드', '쇼핑', '튜닝', '테스트', '클리닉', '병원', '수퍼마켓', '버튼', '리모컨', '센서', '스크린', '프로젝터', '플래시', '레이저', '스타일', '패션쇼', '플래너', '스케줄', '플로어', '스탠드', '컨테이너', '마일리지', '트래픽', '트랙', '세라믹', '레진', '실리콘', '알루미늄', '컨버터', '인버터', '브레이크', '클러치', '풋볼', '바스켓볼', '볼링', '테니스', '라켓', '키스', '허그', '러브레터', '트러블', '레벨', '스탠다드', '프로토콜', '트리거', '레버', '컨트롤', '램프', '라이트', '포켓', '카고', '헤드라이트', '스피커', '미니스커트', '섹시', '럭셔리', '에어백', '브레스렛', '카드', '뱅크', '클럽', '프로젝트', '파워포인트', '워드', '엑셀', '포토샵', '인스타그램', '트위터', '페이스북', '블로그', '포럼', '쇼핑카트', '카페', '리뷰', '피드백', '액션', '드라마', '미스터리', '로맨스', '코미디', '레시피', '요리', '레스토랑', '카페인', '비타민', '미네랄', '칼로리', '프로틴', '에너지', '스트레스', '리프레시', '에어컨', '히터', '미러']\n"
          ]
        }
      ]
    },
    {
      "cell_type": "code",
      "source": [
        "#open ai whisper\n",
        "from openai import OpenAI\n",
        "client = OpenAI(\n",
        "    api_key = API_key\n",
        ")\n",
        "client.api_key = API_KEY\n",
        "audio_file = open('/content/drive/MyDrive/Colab Notebooks/NLP 잔디심기/한글날 게임기 - 외래어 탐지기/sample.wav', 'rb')\n",
        "transcript = client.audio.transcriptions.create(\n",
        "  model=\"whisper-1\",\n",
        "  file=audio_file\n",
        ")\n",
        "\n",
        "print(transcript.text)"
      ],
      "metadata": {
        "colab": {
          "base_uri": "https://localhost:8080/"
        },
        "id": "r1npp8bPm_W4",
        "outputId": "546e33e4-dff1-41c5-e869-8cc668cc48e0"
      },
      "execution_count": null,
      "outputs": [
        {
          "output_type": "stream",
          "name": "stdout",
          "text": [
            "백미러에 써있는 글씨를 읽어보세요.\n"
          ]
        }
      ]
    },
    {
      "cell_type": "code",
      "source": [
        "## konlpy 형태소 분석기를 사용한 파싱\n",
        "from konlpy.tag import Okt\n",
        "\n",
        "okt = Okt()\n",
        "\n",
        "asr_text = okt.morphs(transcript.text)\n",
        "print(asr_text)\n",
        "\n"
      ],
      "metadata": {
        "colab": {
          "base_uri": "https://localhost:8080/"
        },
        "id": "p7qGgqRTopDv",
        "outputId": "b6e2fa7a-31b9-491c-d9cd-3d4a947b4dfd"
      },
      "execution_count": null,
      "outputs": [
        {
          "output_type": "stream",
          "name": "stdout",
          "text": [
            "['백', '미러', '에', '써있는', '글씨', '를', '읽어', '보세요', '.']\n"
          ]
        }
      ]
    },
    {
      "cell_type": "code",
      "source": [
        "## 검사\n",
        "\n",
        "def check_foreign(text1:set, text2:set):\n",
        "  result = text1 & text2\n",
        "  if len(result) > 0:\n",
        "    return True\n",
        "\n",
        "  return False\n",
        "\n",
        "asr_text = set(asr_text)\n",
        "\n",
        "set_foreign_words = set(FOREIGN_WORDS)\n",
        "\n",
        "print(check_foreign(asr_text, set_foreign_words))"
      ],
      "metadata": {
        "colab": {
          "base_uri": "https://localhost:8080/"
        },
        "id": "YnigNGHJq6ZX",
        "outputId": "ad20d378-643f-4a11-a3cf-be987761ff4e"
      },
      "execution_count": null,
      "outputs": [
        {
          "output_type": "stream",
          "name": "stdout",
          "text": [
            "True\n"
          ]
        }
      ]
    },
    {
      "cell_type": "code",
      "source": [
        "# 피드백\n",
        "\n",
        "1. 화자 분리 모델(상용) 사용하기\n",
        "2. 게임 방식을 바꾸면 가능할 듯 - 자기소개하기 기능 -> 미리 샘플링 하는 것\n",
        "3. 모바일 기기에 탑재하는 방향이 좋을 듯\n",
        "4. 에...?"
      ],
      "metadata": {
        "id": "fi-akVAGr2w9"
      },
      "execution_count": null,
      "outputs": []
    }
  ]
}